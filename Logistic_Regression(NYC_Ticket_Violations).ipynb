{
  "nbformat": 4,
  "nbformat_minor": 0,
  "metadata": {
    "colab": {
      "provenance": []
    },
    "kernelspec": {
      "name": "python3",
      "display_name": "Python 3"
    },
    "language_info": {
      "name": "python"
    }
  },
  "cells": [
    {
      "cell_type": "code",
      "execution_count": null,
      "metadata": {
        "colab": {
          "base_uri": "https://localhost:8080/"
        },
        "id": "BbEh3zVqeozj",
        "outputId": "219cd104-11f2-4e32-f949-82ab3e0f9c01"
      },
      "outputs": [
        {
          "output_type": "stream",
          "name": "stdout",
          "text": [
            "Mounted at /content/drive\n"
          ]
        }
      ],
      "source": [
        "from google.colab import drive\n",
        "\n",
        "drive.mount('/content/drive')"
      ]
    },
    {
      "cell_type": "code",
      "source": [
        "!pip install pyspark"
      ],
      "metadata": {
        "colab": {
          "base_uri": "https://localhost:8080/"
        },
        "id": "JpduVy6xewKA",
        "outputId": "633bf448-fc2b-42d6-8fdf-ac2f4b597c4d"
      },
      "execution_count": null,
      "outputs": [
        {
          "output_type": "stream",
          "name": "stdout",
          "text": [
            "Looking in indexes: https://pypi.org/simple, https://us-python.pkg.dev/colab-wheels/public/simple/\n",
            "Collecting pyspark\n",
            "  Downloading pyspark-3.4.0.tar.gz (310.8 MB)\n",
            "\u001b[2K     \u001b[90m━━━━━━━━━━━━━━━━━━━━━━━━━━━━━━━━━━━━━━━\u001b[0m \u001b[32m310.8/310.8 MB\u001b[0m \u001b[31m4.6 MB/s\u001b[0m eta \u001b[36m0:00:00\u001b[0m\n",
            "\u001b[?25h  Preparing metadata (setup.py) ... \u001b[?25l\u001b[?25hdone\n",
            "Requirement already satisfied: py4j==0.10.9.7 in /usr/local/lib/python3.9/dist-packages (from pyspark) (0.10.9.7)\n",
            "Building wheels for collected packages: pyspark\n",
            "  Building wheel for pyspark (setup.py) ... \u001b[?25l\u001b[?25hdone\n",
            "  Created wheel for pyspark: filename=pyspark-3.4.0-py2.py3-none-any.whl size=311317145 sha256=468ca81eedd7a7e8b9b10604f280ae4ffc6d505b7ac188dcef8ce3da19cd3a87\n",
            "  Stored in directory: /root/.cache/pip/wheels/9f/34/a4/159aa12d0a510d5ff7c8f0220abbea42e5d81ecf588c4fd884\n",
            "Successfully built pyspark\n",
            "Installing collected packages: pyspark\n",
            "Successfully installed pyspark-3.4.0\n"
          ]
        }
      ]
    },
    {
      "cell_type": "code",
      "source": [
        "from pyspark.sql import SparkSession\n",
        "\n",
        "spark = SparkSession.builder \\\n",
        "        .master(\"local\") \\\n",
        "        .appName(\"Google Drive and PySpark\") \\\n",
        "        .getOrCreate()"
      ],
      "metadata": {
        "id": "RXkdW71pex3k"
      },
      "execution_count": null,
      "outputs": []
    },
    {
      "cell_type": "code",
      "source": [
        "file_path = '/content/drive/MyDrive/nyc_tickets_violation_2020/Parking_Violations_Issued_-_Fiscal_Year_2020.csv'\n",
        "\n",
        "df = spark.read \\\n",
        "    .option(\"header\", \"true\") \\\n",
        "    .option(\"inferSchema\", \"true\") \\\n",
        "    .csv(file_path)\n"
      ],
      "metadata": {
        "id": "q-8VMFZQezff"
      },
      "execution_count": null,
      "outputs": []
    },
    {
      "cell_type": "code",
      "source": [
        "df.show(10)"
      ],
      "metadata": {
        "colab": {
          "base_uri": "https://localhost:8080/"
        },
        "id": "AH9YYz6fe0_I",
        "outputId": "114e9eda-fdcb-40c8-8221-b43ff0aa23fe"
      },
      "execution_count": null,
      "outputs": [
        {
          "output_type": "stream",
          "name": "stdout",
          "text": [
            "+--------------+--------+------------------+----------+--------------------+--------------+-----------------+------------+--------------+------------+------------+------------+-----------------------+------------------+------------------+---------------+-----------+--------------+------------+--------------+-------------------+----------------+---------------------------------+------------+-------------------+-------------------+-------------------+-----------+------------+--------------------+----------------------+--------------------+------------------+-------------+---------------------+------------+------------+--------------+-------------------+---------------------+---------------------------------+-----------------+------------------------+\n",
            "|Summons Number|Plate ID|Registration State|Plate Type|          Issue Date|Violation Code|Vehicle Body Type|Vehicle Make|Issuing Agency|Street Code1|Street Code2|Street Code3|Vehicle Expiration Date|Violation Location|Violation Precinct|Issuer Precinct|Issuer Code|Issuer Command|Issuer Squad|Violation Time|Time First Observed|Violation County|Violation In Front Of Or Opposite|House Number|        Street Name|Intersecting Street|Date First Observed|Law Section|Sub Division|Violation Legal Code|Days Parking In Effect|From Hours In Effect|To Hours In Effect|Vehicle Color|Unregistered Vehicle?|Vehicle Year|Meter Number|Feet From Curb|Violation Post Code|Violation Description|No Standing or Stopping Violation|Hydrant Violation|Double Parking Violation|\n",
            "+--------------+--------+------------------+----------+--------------------+--------------+-----------------+------------+--------------+------------+------------+------------+-----------------------+------------------+------------------+---------------+-----------+--------------+------------+--------------+-------------------+----------------+---------------------------------+------------+-------------------+-------------------+-------------------+-----------+------------+--------------------+----------------------+--------------------+------------------+-------------+---------------------+------------+------------+--------------+-------------------+---------------------+---------------------------------+-----------------+------------------------+\n",
            "|    1477633194|  J58JKX|                NJ|       PAS|05/08/1972 12:00:...|            16|              SDN|       HONDA|             P|        8730|        5130|        5280|                      0|                72|                72|            504|     342924|          T504|        0000|         0523P|               null|               K|                                F|         270|              43 ST|               null|                  0|        408|          E2|                null|               YYYYYBB|               0800A|             0400P|           BK|                    0|           0|           -|             0|               null|                 null|                             null|             null|                    null|\n",
            "|    1449715424| KRE6058|                PA|       PAS|08/29/1977 12:00:...|            98|             SUBN|       ME/BE|             P|       86530|       71800|       73110|                      0|                77|                77|             77|     961115|          0077|        0000|         0428P|               null|               K|                                F|        1953|           UNION ST|               null|                  0|        408|          F1|                null|               BBBBBBB|                 ALL|               ALL|          BLK|                    0|           0|           -|             0|               null|                 null|                             null|             null|                    null|\n",
            "|    1455779155| 444326R|                NJ|       PAS|10/03/1988 12:00:...|            20|              SDN|       LEXUS|             P|       27030|       41330|       69230|                      0|                88|                88|            730|     535422|          T730|        0000|         0625A|               null|               K|                                O|          45|    CLERMONT AVENUE|               null|                  0|        408|           D|                null|               BBBBBBB|                 ALL|               ALL|        BLACK|                    0|           0|           -|             0|               null|                 null|                             null|             null|                    null|\n",
            "|    1458800908| F728330|                OH|       PAS|01/03/1990 12:00:...|            21|              SDN|       CHEVR|             P|       33030|       93630|       58730|                      0|                90|                90|            301|     355074|          T301|        0000|         1106A|               null|               K|                                F|         218|       DIVISION AVE|               null|                  0|        408|           C|                null|               BYBBYBB|               1100A|             1230P|         null|                    0|           0|           -|             0|               null|                 null|                             null|             null|                    null|\n",
            "|    1466038676| FMY9090|                NY|       PAS|02/14/1990 12:00:...|            21|             SUBN|        JEEP|             S|       45130|       23930|       68130|               20210915|                90|                90|              0|     668676|          KNBO|        0000|         1253A|               null|               K|                                F|         850|           GRAND ST|               null|                  0|        408|          D1|                null|               BYBBYBB|               1200A|             0300A|         GREY|                    0|        2015|           -|             0|               null|                 null|                             null|             null|                    null|\n",
            "|    1440657920| KDG0693|                PA|       PAS|07/21/1990 12:00:...|            14|             SUBN|        HYUN|             P|       33440|       62200|           0|               20191231|               100|               100|            100|     963999|          0100|        0000|         0525P|               null|               Q|                             null|        null|            B 99 ST|   SHORE FRONT PKWY|                  0|        408|           C|                null|               BBBBBBB|                 ALL|               ALL|           GY|                    0|           0|           -|             0|               null|                 null|                             null|             null|                    null|\n",
            "|    1460987810| 79928MG|                NY|       COM|09/19/1990 12:00:...|            48|             DELV|       INTER|             P|           0|           0|           0|               20200531|                 1|                 1|            401|     958976|          0401|        0000|         1120A|               null|              NY|                             null|        null|W/S/O WASHINGTON ST|      S/O SPRING ST|                  0|        408|          E9|                null|               BBBBBBB|                 ALL|               ALL|           WH|                    0|        2015|           -|             0|               null|                 null|                             null|             null|                    null|\n",
            "|    1449130203| JJJ8186|                NY|       PAS|10/14/1990 12:00:...|            14|             SUBN|         BMW|             P|       10020|       27480|       27540|               20210710|                52|                52|             52|     964971|          0052|        0000|         0320A|               null|              BX|                                F|        2734|     BAINBRIDGE AVE|               null|                  0|        408|          F2|                null|               BBBBBBB|                 ALL|               ALL|          BLK|                    0|        2010|           -|             0|               null|                 null|                             null|             null|                    null|\n",
            "|    1451300189| DKD6024|                NC|       PAS|07/25/1991 12:00:...|            98|              SDN|        FORD|             P|       11280|       54137|        5430|               20190930|                68|                68|             68|     945183|          0068|        0000|         0843P|               null|               K|                                F|         372|              94 ST|               null|                  0|        408|          C3|                null|               BBBBBBB|                 ALL|               ALL|         GREY|                    0|           0|           -|             0|               null|                 null|                             null|             null|                    null|\n",
            "|    1464768973|  6542FR|                99|       PAS|01/01/2000 12:00:...|            40|             SUBN|       CMCKU|             P|       18070|       25390|       27790|                      0|                17|                17|            405|     930288|          0405|        0000|         0739P|               null|            null|                                F|          65|            E 54 ST|               null|                  0|        408|           C|                null|               BBBBBBB|                 ALL|               ALL|          RED|                    0|           0|           -|             2|               null|                 null|                             null|             null|                    null|\n",
            "+--------------+--------+------------------+----------+--------------------+--------------+-----------------+------------+--------------+------------+------------+------------+-----------------------+------------------+------------------+---------------+-----------+--------------+------------+--------------+-------------------+----------------+---------------------------------+------------+-------------------+-------------------+-------------------+-----------+------------+--------------------+----------------------+--------------------+------------------+-------------+---------------------+------------+------------+--------------+-------------------+---------------------+---------------------------------+-----------------+------------------------+\n",
            "only showing top 10 rows\n",
            "\n"
          ]
        }
      ]
    },
    {
      "cell_type": "code",
      "source": [
        "num_rows = df.count()\n",
        "print(\"Number of rows: \", num_rows)\n"
      ],
      "metadata": {
        "colab": {
          "base_uri": "https://localhost:8080/"
        },
        "id": "6SPlrwBZe3ZY",
        "outputId": "6aec5827-a042-478a-db9a-f875386deb02"
      },
      "execution_count": null,
      "outputs": [
        {
          "output_type": "stream",
          "name": "stdout",
          "text": [
            "Number of rows:  12495734\n"
          ]
        }
      ]
    },
    {
      "cell_type": "code",
      "source": [
        "from pyspark.sql.types import StringType"
      ],
      "metadata": {
        "id": "uYxTCErce5M3"
      },
      "execution_count": null,
      "outputs": []
    },
    {
      "cell_type": "code",
      "source": [
        "# get the data types of all columns\n",
        "dtypes = df.dtypes\n",
        "\n",
        "\n",
        "print(dtypes)"
      ],
      "metadata": {
        "colab": {
          "base_uri": "https://localhost:8080/"
        },
        "id": "fpvah-C5e7vB",
        "outputId": "4392a54c-6cfc-4246-885c-172c31e7b8ce"
      },
      "execution_count": null,
      "outputs": [
        {
          "output_type": "stream",
          "name": "stdout",
          "text": [
            "[('Summons Number', 'bigint'), ('Plate ID', 'string'), ('Registration State', 'string'), ('Plate Type', 'string'), ('Issue Date', 'string'), ('Violation Code', 'int'), ('Vehicle Body Type', 'string'), ('Vehicle Make', 'string'), ('Issuing Agency', 'string'), ('Street Code1', 'int'), ('Street Code2', 'int'), ('Street Code3', 'int'), ('Vehicle Expiration Date', 'int'), ('Violation Location', 'int'), ('Violation Precinct', 'int'), ('Issuer Precinct', 'int'), ('Issuer Code', 'int'), ('Issuer Command', 'string'), ('Issuer Squad', 'string'), ('Violation Time', 'string'), ('Time First Observed', 'string'), ('Violation County', 'string'), ('Violation In Front Of Or Opposite', 'string'), ('House Number', 'string'), ('Street Name', 'string'), ('Intersecting Street', 'string'), ('Date First Observed', 'int'), ('Law Section', 'int'), ('Sub Division', 'string'), ('Violation Legal Code', 'string'), ('Days Parking In Effect', 'string'), ('From Hours In Effect', 'string'), ('To Hours In Effect', 'string'), ('Vehicle Color', 'string'), ('Unregistered Vehicle?', 'int'), ('Vehicle Year', 'int'), ('Meter Number', 'string'), ('Feet From Curb', 'int'), ('Violation Post Code', 'string'), ('Violation Description', 'string'), ('No Standing or Stopping Violation', 'string'), ('Hydrant Violation', 'string'), ('Double Parking Violation', 'string')]\n"
          ]
        }
      ]
    },
    {
      "cell_type": "code",
      "source": [
        "# define a list of column names\n",
        "#columns_to_keep = [\"Registration State\", \"Plate Type\", \"Street Code1\",\"Street Code2\",\"Street Code3\",\"Violation Code\",\"Issue Date\",\"Vehicle Body Type\",\"Vehicle Color\",\"Violation Precinct\",\"Violation Time\",\"Violation County\"]\n",
        "columns_to_keep = [\"Registration State\", \"Plate Type\",\"Violation Code\",\"Issue Date\",\"Vehicle Body Type\",\"Vehicle Color\",\"Violation Precinct\",\"Violation Time\",\"Violation County\"]\n",
        "# select specific columns using the list and save them in a new DataFrame\n",
        "new_df = df.select(*columns_to_keep)\n",
        "\n",
        "# display the new DataFrame\n",
        "new_df.show()\n"
      ],
      "metadata": {
        "colab": {
          "base_uri": "https://localhost:8080/"
        },
        "id": "5xh8f7fce9ft",
        "outputId": "bc6d4cc8-eabe-4433-ca80-1e5c08e5d4ec"
      },
      "execution_count": null,
      "outputs": [
        {
          "output_type": "stream",
          "name": "stdout",
          "text": [
            "+------------------+----------+--------------+--------------------+-----------------+-------------+------------------+--------------+----------------+\n",
            "|Registration State|Plate Type|Violation Code|          Issue Date|Vehicle Body Type|Vehicle Color|Violation Precinct|Violation Time|Violation County|\n",
            "+------------------+----------+--------------+--------------------+-----------------+-------------+------------------+--------------+----------------+\n",
            "|                NJ|       PAS|            16|05/08/1972 12:00:...|              SDN|           BK|                72|         0523P|               K|\n",
            "|                PA|       PAS|            98|08/29/1977 12:00:...|             SUBN|          BLK|                77|         0428P|               K|\n",
            "|                NJ|       PAS|            20|10/03/1988 12:00:...|              SDN|        BLACK|                88|         0625A|               K|\n",
            "|                OH|       PAS|            21|01/03/1990 12:00:...|              SDN|         null|                90|         1106A|               K|\n",
            "|                NY|       PAS|            21|02/14/1990 12:00:...|             SUBN|         GREY|                90|         1253A|               K|\n",
            "|                PA|       PAS|            14|07/21/1990 12:00:...|             SUBN|           GY|               100|         0525P|               Q|\n",
            "|                NY|       COM|            48|09/19/1990 12:00:...|             DELV|           WH|                 1|         1120A|              NY|\n",
            "|                NY|       PAS|            14|10/14/1990 12:00:...|             SUBN|          BLK|                52|         0320A|              BX|\n",
            "|                NC|       PAS|            98|07/25/1991 12:00:...|              SDN|         GREY|                68|         0843P|               K|\n",
            "|                99|       PAS|            40|01/01/2000 12:00:...|             SUBN|          RED|                17|         0739P|            null|\n",
            "|                NY|       PAS|            74|01/02/2000 12:00:...|              SDN|         GREY|                73|         1020A|            null|\n",
            "|                NY|       PAS|            46|01/02/2000 12:00:...|              SDN|         GRAY|                44|         0936P|              BX|\n",
            "|                NY|       PAS|            24|01/02/2000 12:00:...|              SDN|        BLACK|                73|         1030A|               K|\n",
            "|                NY|       PAS|            24|01/02/2000 12:00:...|              SDN|        BLACK|                73|         1015A|               K|\n",
            "|                ME|       PAS|            21|01/03/2000 12:00:...|             SUBN|          TAN|                67|         0952A|               K|\n",
            "|                NY|       PAS|            74|01/03/2000 12:00:...|              SDN|        SILVE|                73|         0815A|               K|\n",
            "|                GV|       PAS|            14|01/08/2000 12:00:...|             DELV|           WH|                 0|         0410P|              BX|\n",
            "|                NY|       COM|            46|01/10/2000 12:00:...|             DELV|           BN|                26|         0605P|              NY|\n",
            "|                NC|       PAS|            99|01/11/2000 12:00:...|              TRK|           WH|                63|         0825P|            null|\n",
            "|                NY|       COM|            71|01/12/2000 12:00:...|              VAN|           WH|                72|         0854A|               K|\n",
            "+------------------+----------+--------------+--------------------+-----------------+-------------+------------------+--------------+----------------+\n",
            "only showing top 20 rows\n",
            "\n"
          ]
        }
      ]
    },
    {
      "cell_type": "code",
      "source": [
        "num_rows = new_df.count()\n",
        "print(\"Number of rows: \", num_rows)"
      ],
      "metadata": {
        "colab": {
          "base_uri": "https://localhost:8080/"
        },
        "id": "wNO7tCPAfASQ",
        "outputId": "cd8b0014-5633-44de-8d14-3395bde46d67"
      },
      "execution_count": null,
      "outputs": [
        {
          "output_type": "stream",
          "name": "stdout",
          "text": [
            "Number of rows:  12495734\n"
          ]
        }
      ]
    },
    {
      "cell_type": "code",
      "source": [
        "df_cleaned = new_df.na.drop()\n",
        "df_cleaned.show()"
      ],
      "metadata": {
        "colab": {
          "base_uri": "https://localhost:8080/"
        },
        "id": "_GbV6UhtfGSt",
        "outputId": "2d4379fb-d46b-460c-9df0-2e7e005b72f5"
      },
      "execution_count": null,
      "outputs": [
        {
          "output_type": "stream",
          "name": "stdout",
          "text": [
            "+------------------+----------+--------------+--------------------+-----------------+-------------+------------------+--------------+----------------+\n",
            "|Registration State|Plate Type|Violation Code|          Issue Date|Vehicle Body Type|Vehicle Color|Violation Precinct|Violation Time|Violation County|\n",
            "+------------------+----------+--------------+--------------------+-----------------+-------------+------------------+--------------+----------------+\n",
            "|                NJ|       PAS|            16|05/08/1972 12:00:...|              SDN|           BK|                72|         0523P|               K|\n",
            "|                PA|       PAS|            98|08/29/1977 12:00:...|             SUBN|          BLK|                77|         0428P|               K|\n",
            "|                NJ|       PAS|            20|10/03/1988 12:00:...|              SDN|        BLACK|                88|         0625A|               K|\n",
            "|                NY|       PAS|            21|02/14/1990 12:00:...|             SUBN|         GREY|                90|         1253A|               K|\n",
            "|                PA|       PAS|            14|07/21/1990 12:00:...|             SUBN|           GY|               100|         0525P|               Q|\n",
            "|                NY|       COM|            48|09/19/1990 12:00:...|             DELV|           WH|                 1|         1120A|              NY|\n",
            "|                NY|       PAS|            14|10/14/1990 12:00:...|             SUBN|          BLK|                52|         0320A|              BX|\n",
            "|                NC|       PAS|            98|07/25/1991 12:00:...|              SDN|         GREY|                68|         0843P|               K|\n",
            "|                NY|       PAS|            46|01/02/2000 12:00:...|              SDN|         GRAY|                44|         0936P|              BX|\n",
            "|                NY|       PAS|            24|01/02/2000 12:00:...|              SDN|        BLACK|                73|         1030A|               K|\n",
            "|                NY|       PAS|            24|01/02/2000 12:00:...|              SDN|        BLACK|                73|         1015A|               K|\n",
            "|                ME|       PAS|            21|01/03/2000 12:00:...|             SUBN|          TAN|                67|         0952A|               K|\n",
            "|                NY|       PAS|            74|01/03/2000 12:00:...|              SDN|        SILVE|                73|         0815A|               K|\n",
            "|                GV|       PAS|            14|01/08/2000 12:00:...|             DELV|           WH|                 0|         0410P|              BX|\n",
            "|                NY|       COM|            46|01/10/2000 12:00:...|             DELV|           BN|                26|         0605P|              NY|\n",
            "|                NY|       COM|            71|01/12/2000 12:00:...|              VAN|           WH|                72|         0854A|               K|\n",
            "|                NY|       COM|            14|01/14/2000 12:00:...|              VAN|          WHT|                 0|         0416P|              NY|\n",
            "|                IN|       PAS|            19|01/14/2000 12:00:...|             DELV|           WH|                 0|         0903A|              NY|\n",
            "|                NJ|       PAS|            14|01/15/2000 12:00:...|             DELV|           WH|                 0|         0854A|              NY|\n",
            "|                NY|       PAS|            21|01/17/2000 12:00:...|              SDN|         GRAY|                79|         0952A|               K|\n",
            "+------------------+----------+--------------+--------------------+-----------------+-------------+------------------+--------------+----------------+\n",
            "only showing top 20 rows\n",
            "\n"
          ]
        }
      ]
    },
    {
      "cell_type": "code",
      "source": [
        "num_rows=df_cleaned.count()\n",
        "print(num_rows)"
      ],
      "metadata": {
        "colab": {
          "base_uri": "https://localhost:8080/"
        },
        "id": "7bUVb1BVfIxJ",
        "outputId": "25888e07-08bf-4ae1-fd15-c48f2091d948"
      },
      "execution_count": null,
      "outputs": [
        {
          "output_type": "stream",
          "name": "stdout",
          "text": [
            "12038086\n"
          ]
        }
      ]
    },
    {
      "cell_type": "code",
      "source": [
        "from pyspark.sql.functions import col\n",
        "\n",
        "# columns_to_filter = [\"Registration State\", \"Plate Type\", \"Street Code1\",\"Street Code2\",\"Street Code3\",\"Issue Date\",\"Violation Code\",\"Vehicle Body Type\",\"Issuing Agency\",\"Vehicle Expiration Date\",\"Violation Location\",\"Violation Precinct\",\"Issuer Precinct\",\"Issuer Code\",\"Issuer Command\",\"Violation Time\",\"Violation County\"]\n",
        "\n",
        "columns_to_filter = [\"Registration State\", \"Plate Type\",\"Violation Code\",\"Issue Date\",\"Vehicle Body Type\",\"Vehicle Color\",\"Violation Precinct\",\"Violation Time\",\"Violation County\"]\n",
        "for column_name in columns_to_filter:\n",
        "    df = df_cleaned.filter(col(column_name) != 0)\n",
        "    row_count = df.count()\n",
        "    print(f\"Filtered DataFrame has {row_count} rows after filtering column '{column_name}'.\")\n"
      ],
      "metadata": {
        "colab": {
          "base_uri": "https://localhost:8080/"
        },
        "id": "FAykWjRGfJcg",
        "outputId": "1713ab33-8632-4f85-f8b1-635cc6053d97"
      },
      "execution_count": null,
      "outputs": [
        {
          "output_type": "stream",
          "name": "stdout",
          "text": [
            "Filtered DataFrame has 18428 rows after filtering column 'Registration State'.\n",
            "Filtered DataFrame has 52175 rows after filtering column 'Plate Type'.\n",
            "Filtered DataFrame has 12037382 rows after filtering column 'Violation Code'.\n",
            "Filtered DataFrame has 0 rows after filtering column 'Issue Date'.\n",
            "Filtered DataFrame has 61 rows after filtering column 'Vehicle Body Type'.\n",
            "Filtered DataFrame has 13 rows after filtering column 'Vehicle Color'.\n",
            "Filtered DataFrame has 7868965 rows after filtering column 'Violation Precinct'.\n",
            "Filtered DataFrame has 147 rows after filtering column 'Violation Time'.\n",
            "Filtered DataFrame has 0 rows after filtering column 'Violation County'.\n"
          ]
        }
      ]
    },
    {
      "cell_type": "code",
      "source": [
        "from pyspark.sql.functions import col, desc\n",
        "import matplotlib.pyplot as plt\n",
        "\n",
        "# Aggregate the data by \"violation code\" and count occurrences\n",
        "aggregated_data = df_cleaned.groupBy(\"Violation Code\").count()\n",
        "\n",
        "# Sort by count in descending order\n",
        "sorted_data = aggregated_data.sort(desc(\"count\"))\n",
        "\n",
        "# (Optional) Select the top N highest occurring codes\n",
        "top_n = 50\n",
        "top_codes = sorted_data.limit(top_n).toPandas()\n",
        "\n",
        "# Create a bar plot\n",
        "plt.figure(figsize=(12, 6))\n",
        "plt.bar(top_codes[\"Violation Code\"], top_codes[\"count\"])\n",
        "plt.xlabel(\"Violation Code\")\n",
        "plt.ylabel(\"Frequency\")\n",
        "plt.title(\"Top Occurring Violation Codes\")\n",
        "plt.show()\n"
      ],
      "metadata": {
        "colab": {
          "base_uri": "https://localhost:8080/",
          "height": 564
        },
        "id": "NFOTg79ifUpt",
        "outputId": "e8648164-2273-43fa-c9e4-a2e2a9b143fe"
      },
      "execution_count": null,
      "outputs": [
        {
          "output_type": "display_data",
          "data": {
            "text/plain": [
              "<Figure size 1200x600 with 1 Axes>"
            ],
            "image/png": "[encoded data removed]"
          },
          "metadata": {}
        }
      ]
    },
    {
      "cell_type": "code",
      "source": [
        "from pyspark.sql.functions import col, desc\n",
        "\n",
        "# Aggregate the data by \"violation code\" and count occurrences\n",
        "aggregated_data = df_cleaned.groupBy(\"Violation Code\").count()\n",
        "\n",
        "# Calculate the total number of occurrences for all codes\n",
        "total_count = aggregated_data.agg({\"count\": \"sum\"}).collect()[0][0]\n",
        "\n",
        "# Sort by count in descending order\n",
        "sorted_data = aggregated_data.sort(desc(\"count\"))\n",
        "\n",
        "# Find the violation codes responsible for 99% of the data\n",
        "threshold = 0.99 * total_count\n",
        "accumulated_count = 0\n",
        "codes_responsible_99_percent = []\n",
        "\n",
        "for row in sorted_data.collect():\n",
        "    accumulated_count += row[\"count\"]\n",
        "    codes_responsible_99_percent.append(row[\"Violation Code\"])\n",
        "\n",
        "    if accumulated_count >= threshold:\n",
        "        break\n",
        "\n",
        "print(f\"Total count of all violation codes: {total_count}\")\n",
        "print(f\"Count of violation codes responsible for 99% of the data: {accumulated_count}\")\n",
        "print(\"Violation codes responsible for 99% of the data:\", codes_responsible_99_percent)\n",
        "print(\"Violation codes responsible for 99% of the data:\", codes_responsible_99_percent)"
      ],
      "metadata": {
        "colab": {
          "base_uri": "https://localhost:8080/"
        },
        "id": "cfyzSR_efcvd",
        "outputId": "f4da2511-bbfb-48b7-ea04-0763b6a6be7a"
      },
      "execution_count": null,
      "outputs": [
        {
          "output_type": "stream",
          "name": "stdout",
          "text": [
            "Total count of all violation codes: 12038086\n",
            "Count of violation codes responsible for 99% of the data: 11918193\n",
            "Violation codes responsible for 99% of the data: [36, 21, 38, 14, 20, 40, 46, 71, 37, 7, 19, 70, 5, 16, 69, 74, 31, 17, 47, 84, 48, 50, 10, 51, 42, 9, 78, 53, 18, 66, 98, 82, 72, 13, 12, 68, 85, 77, 64]\n",
            "Violation codes responsible for 99% of the data: [36, 21, 38, 14, 20, 40, 46, 71, 37, 7, 19, 70, 5, 16, 69, 74, 31, 17, 47, 84, 48, 50, 10, 51, 42, 9, 78, 53, 18, 66, 98, 82, 72, 13, 12, 68, 85, 77, 64]\n"
          ]
        }
      ]
    },
    {
      "cell_type": "code",
      "source": [
        "from pyspark.sql.functions import col, desc\n",
        "\n",
        "# Aggregate the data by \"violation code\" and count occurrences\n",
        "aggregated_data = df_cleaned.groupBy(\"Violation Code\").count()\n",
        "\n",
        "# Calculate the total number of occurrences for all codes\n",
        "total_count = aggregated_data.agg({\"count\": \"sum\"}).collect()[0][0]\n",
        "\n",
        "# Sort by count in descending order\n",
        "sorted_data = aggregated_data.sort(desc(\"count\"))\n",
        "\n",
        "# Find the violation codes responsible for 99% of the data\n",
        "threshold = 0.99 * total_count\n",
        "accumulated_count = 0\n",
        "codes_responsible_99_percent = []\n",
        "\n",
        "for row in sorted_data.collect():\n",
        "    accumulated_count += row[\"count\"]\n",
        "    codes_responsible_99_percent.append(row[\"Violation Code\"])\n",
        "\n",
        "    if accumulated_count >= threshold:\n",
        "        break\n",
        "\n",
        "# Count the distinct violation codes before and after filtering\n",
        "distinct_count_before = df.select(\"Violation Code\").distinct().count()\n",
        "filtered_df = df.where(col(\"Violation Code\").isin(codes_responsible_99_percent))\n",
        "distinct_count_after = filtered_df.select(\"Violation Code\").distinct().count()\n",
        "\n",
        "print(f\"Number of distinct violation codes before filtering: {distinct_count_before}\")\n",
        "print(f\"Number of distinct violation codes after filtering for 99% threshold: {distinct_count_after}\")\n"
      ],
      "metadata": {
        "colab": {
          "base_uri": "https://localhost:8080/"
        },
        "id": "aQmVoWb_fhBQ",
        "outputId": "faf03756-0414-4b5e-f3a7-1033adc7f58a"
      },
      "execution_count": null,
      "outputs": [
        {
          "output_type": "stream",
          "name": "stdout",
          "text": [
            "Number of distinct violation codes before filtering: 0\n",
            "Number of distinct violation codes after filtering for 99% threshold: 0\n"
          ]
        }
      ]
    },
    {
      "cell_type": "code",
      "source": [
        "df_cleaned.createOrReplaceTempView(\"my_data\")\n",
        "\n"
      ],
      "metadata": {
        "id": "YNPLkWuzfkRd"
      },
      "execution_count": null,
      "outputs": []
    },
    {
      "cell_type": "code",
      "source": [
        "result = spark.sql(\"\"\"\n",
        "    SELECT `Violation Code`, count(*) as count\n",
        "    FROM my_data\n",
        "    GROUP BY `violation code`\n",
        "    ORDER BY count DESC\n",
        "\"\"\")\n"
      ],
      "metadata": {
        "id": "gqjJogj4fmv5"
      },
      "execution_count": null,
      "outputs": []
    },
    {
      "cell_type": "code",
      "source": [
        "result.show()"
      ],
      "metadata": {
        "colab": {
          "base_uri": "https://localhost:8080/"
        },
        "id": "zOYOZkpnfqPE",
        "outputId": "98a96af3-99d1-4e06-b0db-7d8a62576bfd"
      },
      "execution_count": null,
      "outputs": [
        {
          "output_type": "stream",
          "name": "stdout",
          "text": [
            "+--------------+-------+\n",
            "|Violation Code|  count|\n",
            "+--------------+-------+\n",
            "|            36|3517428|\n",
            "|            21|1404157|\n",
            "|            38| 969710|\n",
            "|            14| 846245|\n",
            "|            20| 613216|\n",
            "|            40| 513397|\n",
            "|            46| 463290|\n",
            "|            71| 394559|\n",
            "|            37| 369899|\n",
            "|             7| 330693|\n",
            "|            19| 253987|\n",
            "|            70| 235699|\n",
            "|             5| 232092|\n",
            "|            16| 231870|\n",
            "|            69| 229899|\n",
            "|            74| 173583|\n",
            "|            31| 145805|\n",
            "|            17| 116681|\n",
            "|            47|  97511|\n",
            "|            84|  89060|\n",
            "+--------------+-------+\n",
            "only showing top 20 rows\n",
            "\n"
          ]
        }
      ]
    },
    {
      "cell_type": "code",
      "source": [
        "from pyspark.sql.functions import col, desc\n",
        "\n",
        "# Aggregate the data by \"violation code\" and count occurrences\n",
        "aggregated_data = df_cleaned.groupBy(\"Violation Code\").count()\n",
        "\n",
        "# Calculate the total number of occurrences for all codes\n",
        "total_count = aggregated_data.agg({\"count\": \"sum\"}).collect()[0][0]\n",
        "\n",
        "# Sort by count in descending order\n",
        "sorted_data = aggregated_data.sort(desc(\"count\"))\n",
        "\n",
        "# Find the violation codes responsible for 99% of the data\n",
        "threshold = 0.99 * total_count\n",
        "accumulated_count = 0\n",
        "codes_responsible_99_percent = []\n",
        "\n",
        "for row in sorted_data.collect():\n",
        "    accumulated_count += row[\"count\"]\n",
        "    codes_responsible_99_percent.append(row[\"Violation Code\"])\n",
        "\n",
        "    if accumulated_count >= threshold:\n",
        "        break\n",
        "\n",
        "# Get the number of distinct violation codes responsible for 99% of the rows\n",
        "num_distinct_codes_99_percent = len(codes_responsible_99_percent)\n",
        "\n",
        "print(f\"Number of distinct violation codes responsible for 99% of the rows: {num_distinct_codes_99_percent}\")\n"
      ],
      "metadata": {
        "colab": {
          "base_uri": "https://localhost:8080/"
        },
        "id": "GabN9x37fq98",
        "outputId": "04ddf90d-2691-4af2-e3dc-767d87e45882"
      },
      "execution_count": null,
      "outputs": [
        {
          "output_type": "stream",
          "name": "stdout",
          "text": [
            "Number of distinct violation codes responsible for 99% of the rows: 39\n"
          ]
        }
      ]
    },
    {
      "cell_type": "code",
      "source": [
        "import matplotlib.pyplot as plt\n",
        "\n",
        "# Calculate the number of violation codes not responsible for 99% of the rows\n",
        "num_distinct_codes_not_99_percent = df_cleaned.select(\"Violation Code\").distinct().count() - num_distinct_codes_99_percent\n",
        "\n",
        "# Data for the plot\n",
        "categories = ['99% of Rows', 'Others']\n",
        "values = [num_distinct_codes_99_percent, num_distinct_codes_not_99_percent]\n",
        "\n",
        "# Create a bar plot\n",
        "plt.bar(categories, values)\n",
        "plt.xlabel('Categories')\n",
        "plt.ylabel('Number of Violation Codes')\n",
        "plt.title('Violation Codes Responsible for 99% of Rows vs Others')\n",
        "plt.show()\n"
      ],
      "metadata": {
        "colab": {
          "base_uri": "https://localhost:8080/",
          "height": 472
        },
        "id": "mDkWs3DvgCtt",
        "outputId": "ae2b7b65-e1f9-439b-9ba4-a041887bb2be"
      },
      "execution_count": null,
      "outputs": [
        {
          "output_type": "display_data",
          "data": {
            "text/plain": [
              "<Figure size 640x480 with 1 Axes>"
            ],
            "image/png": "[encoded data removed]"
          },
          "metadata": {}
        }
      ]
    },
    {
      "cell_type": "code",
      "source": [
        "df_cleaned.printSchema()"
      ],
      "metadata": {
        "colab": {
          "base_uri": "https://localhost:8080/"
        },
        "id": "G4bm-ptzgGoL",
        "outputId": "7b090420-0bad-497c-e750-73ff11b0e7fe"
      },
      "execution_count": null,
      "outputs": [
        {
          "output_type": "stream",
          "name": "stdout",
          "text": [
            "root\n",
            " |-- Registration State: string (nullable = true)\n",
            " |-- Plate Type: string (nullable = true)\n",
            " |-- Violation Code: integer (nullable = true)\n",
            " |-- Issue Date: string (nullable = true)\n",
            " |-- Vehicle Body Type: string (nullable = true)\n",
            " |-- Vehicle Color: string (nullable = true)\n",
            " |-- Violation Precinct: integer (nullable = true)\n",
            " |-- Violation Time: string (nullable = true)\n",
            " |-- Violation County: string (nullable = true)\n",
            "\n"
          ]
        }
      ]
    },
    {
      "cell_type": "code",
      "source": [
        "from pyspark.sql.functions import to_date, year, month, dayofmonth, hour, when\n",
        "from pyspark.sql.types import DateType\n",
        "\n",
        "\n",
        "from pyspark.sql.functions import *\n",
        "\n",
        "\n",
        "# Convert 'violation time' to hour of the day and time of day columns\n",
        "df_cleaned = df_cleaned.withColumn('hour', hour(to_timestamp('Violation Time', 'hh:mm:ss a')))\n",
        "df_cleaned = df_cleaned.withColumn('time_of_day',\n",
        "                                   when(col('hour') < 12, 'morning')\n",
        "                                   .when(col('hour') < 18, 'afternoon')\n",
        "                                   .otherwise('evening'))\n"
      ],
      "metadata": {
        "id": "eknU35wpgIif"
      },
      "execution_count": null,
      "outputs": []
    },
    {
      "cell_type": "code",
      "source": [
        "\n",
        "df_cleaned.printSchema()"
      ],
      "metadata": {
        "colab": {
          "base_uri": "https://localhost:8080/"
        },
        "id": "d28Bxdu9gMD_",
        "outputId": "8367b286-3a45-495c-a293-3de15d33852e"
      },
      "execution_count": null,
      "outputs": [
        {
          "output_type": "stream",
          "name": "stdout",
          "text": [
            "root\n",
            " |-- Registration State: string (nullable = true)\n",
            " |-- Plate Type: string (nullable = true)\n",
            " |-- Violation Code: integer (nullable = true)\n",
            " |-- Issue Date: string (nullable = true)\n",
            " |-- Vehicle Body Type: string (nullable = true)\n",
            " |-- Vehicle Color: string (nullable = true)\n",
            " |-- Violation Precinct: integer (nullable = true)\n",
            " |-- Violation Time: string (nullable = true)\n",
            " |-- Violation County: string (nullable = true)\n",
            " |-- hour: integer (nullable = true)\n",
            " |-- time_of_day: string (nullable = false)\n",
            "\n"
          ]
        }
      ]
    },
    {
      "cell_type": "code",
      "source": [
        "from pyspark.sql.functions import desc\n",
        "\n",
        "# group the data by the Registration State column and count the number of occurrences of each state\n",
        "state_counts = df_cleaned.groupBy('Registration State').count()\n",
        "\n",
        "# sort the states by count in descending order\n",
        "state_counts = state_counts.orderBy(desc('count'))\n",
        "\n",
        "# show the 10 most common occurring states\n",
        "state_counts.show(10)\n"
      ],
      "metadata": {
        "colab": {
          "base_uri": "https://localhost:8080/"
        },
        "id": "n4KdO3TGgPVN",
        "outputId": "3d8bf924-fb24-4ad9-fb13-b7084397b1b5"
      },
      "execution_count": null,
      "outputs": [
        {
          "output_type": "stream",
          "name": "stdout",
          "text": [
            "+------------------+-------+\n",
            "|Registration State|  count|\n",
            "+------------------+-------+\n",
            "|                NY|9690269|\n",
            "|                NJ|1038511|\n",
            "|                PA| 212764|\n",
            "|                FL| 172425|\n",
            "|                IN| 134961|\n",
            "|                CT| 112745|\n",
            "|                VA|  76982|\n",
            "|                MA|  60092|\n",
            "|                MD|  42916|\n",
            "|                TX|  42171|\n",
            "+------------------+-------+\n",
            "only showing top 10 rows\n",
            "\n"
          ]
        }
      ]
    },
    {
      "cell_type": "code",
      "source": [
        "df_cleaned = df_cleaned.filter(df_cleaned['Registration State'] != '99')\n",
        "df_cleaned = df_cleaned.filter(df_cleaned['Plate Type'] != '999')"
      ],
      "metadata": {
        "id": "ikQq-cHcgSL-"
      },
      "execution_count": null,
      "outputs": []
    },
    {
      "cell_type": "code",
      "source": [
        "# Group by the Vehicle Color column and count the number of occurrences of each color\n",
        "color_counts = df_cleaned.groupBy('Vehicle Color').count()\n",
        "\n",
        "# Sort the counts in descending order and select the top 20 entries\n",
        "top_colors = color_counts.orderBy('count', ascending=False).limit(40)\n",
        "\n",
        "# Show the top 20 colors\n",
        "top_colors.show()\n",
        "\n"
      ],
      "metadata": {
        "colab": {
          "base_uri": "https://localhost:8080/"
        },
        "id": "N7kDFghigUvI",
        "outputId": "4b66a74a-4821-4d24-c473-26f2bc5b05ba"
      },
      "execution_count": null,
      "outputs": [
        {
          "output_type": "stream",
          "name": "stdout",
          "text": [
            "+-------------+-------+\n",
            "|Vehicle Color|  count|\n",
            "+-------------+-------+\n",
            "|           WH|2329444|\n",
            "|           GY|2302708|\n",
            "|           BK|2061138|\n",
            "|        WHITE|1046560|\n",
            "|           BL| 772815|\n",
            "|           RD| 481911|\n",
            "|        BLACK| 450786|\n",
            "|         GREY| 298123|\n",
            "|        BROWN| 291128|\n",
            "|        SILVE| 185031|\n",
            "|           GR| 182249|\n",
            "|         BLUE| 171642|\n",
            "|          RED| 155294|\n",
            "|           TN| 120459|\n",
            "|           BR| 100633|\n",
            "|           YW|  98333|\n",
            "|          BLK|  83638|\n",
            "|        OTHER|  58786|\n",
            "|        GREEN|  57052|\n",
            "|           GL|  54814|\n",
            "+-------------+-------+\n",
            "only showing top 20 rows\n",
            "\n"
          ]
        }
      ]
    },
    {
      "cell_type": "code",
      "source": [
        "from pyspark.sql.functions import regexp_replace, when\n",
        "\n",
        "\n",
        "# Combine similar colors into one category\n",
        "df_cleaned = df_cleaned.withColumn('Vehicle Color', when(df_cleaned['Vehicle Color'].isin(['SL', 'SILVR', 'SIL', 'SILVE','sl.']), 'silver')\n",
        "                                 .otherwise(df_cleaned['Vehicle Color']))\n",
        "\n",
        "# Bin \"dark blue\" and \"dark green\" into \"blue\" and \"green\", respectively\n",
        "df_cleaned = df_cleaned.withColumn('Vehicle Color', when(df_cleaned['Vehicle Color'].isin(['dark blue', 'BL','blu']), 'blue')\n",
        "                                 .when(df_cleaned['Vehicle Color'] == 'dark green', 'green')\n",
        "                                 .when(df_cleaned['Vehicle Color'].isin(['blk', 'bl', 'bk','bk.','tn','bl.']), 'black')\n",
        "                                 .when(df_cleaned['Vehicle Color'].isin(['WH','wt','wt.']), 'white')\n",
        "                                 .when(df_cleaned['Vehicle Color'].isin(['GY', 'GR', 'GL','gy','GRY','gry','gray','GRAY','gy.']), 'grey')\n",
        "                                 .when(df_cleaned['Vehicle Color'].isin(['whi','wh','wht','why','WH']), 'white')\n",
        "                                 .when(df_cleaned['Vehicle Color'].isin(['YW']), 'yellow')\n",
        "                                 .when(df_cleaned['Vehicle Color'].isin(['RD','rd']), 'red')\n",
        "                                 .when(df_cleaned['Vehicle Color'].isin(['BR','br']), 'brown')\n",
        "                                 .when(df_cleaned['Vehicle Color'].isin(['yello','yw']), 'yellow')\n",
        "                                 .when(df_cleaned['Vehicle Color'].isin(['gr','GR','gl']), 'green')\n",
        "                                 .when(df_cleaned['Vehicle Color'].isin(['or','mn','mr','orang']), 'orange')\n",
        "                                 .otherwise(df_cleaned['Vehicle Color']))\n",
        "\n",
        "# Convert all colors to lowercase for consistency\n",
        "df_cleaned = df_cleaned.withColumn('Vehicle Color', lower(df_cleaned['Vehicle Color']))\n",
        "\n"
      ],
      "metadata": {
        "id": "YiN9xhIugXMz"
      },
      "execution_count": null,
      "outputs": []
    },
    {
      "cell_type": "code",
      "source": [
        "# Group by the Vehicle Color column and count the number of occurrences of each color\n",
        "color_counts = df_cleaned.groupBy('Vehicle Color').count()\n",
        "\n",
        "# Sort the counts in descending order and select the top 20 entries\n",
        "top_colors = color_counts.orderBy('count', ascending=False).limit(5)\n",
        "\n",
        "# Show the top 20 colors\n",
        "top_colors.show()"
      ],
      "metadata": {
        "colab": {
          "base_uri": "https://localhost:8080/"
        },
        "id": "Q6uk17MAgfBE",
        "outputId": "7c55dd7a-7758-4ff6-9da3-94c7f9041610"
      },
      "execution_count": null,
      "outputs": [
        {
          "output_type": "stream",
          "name": "stdout",
          "text": [
            "+-------------+-------+\n",
            "|Vehicle Color|  count|\n",
            "+-------------+-------+\n",
            "|        white|3376028|\n",
            "|         grey|2918694|\n",
            "|           bk|2061138|\n",
            "|         blue| 944460|\n",
            "|          red| 637214|\n",
            "+-------------+-------+\n",
            "\n"
          ]
        }
      ]
    },
    {
      "cell_type": "code",
      "source": [
        "df_cleaned.printSchema()"
      ],
      "metadata": {
        "colab": {
          "base_uri": "https://localhost:8080/"
        },
        "id": "ilKzgoXZgjZ9",
        "outputId": "8fd4ae25-4300-42e0-f59e-3d611e8398a1"
      },
      "execution_count": null,
      "outputs": [
        {
          "output_type": "stream",
          "name": "stdout",
          "text": [
            "root\n",
            " |-- Registration State: string (nullable = true)\n",
            " |-- Plate Type: string (nullable = true)\n",
            " |-- Violation Code: integer (nullable = true)\n",
            " |-- Issue Date: string (nullable = true)\n",
            " |-- Vehicle Body Type: string (nullable = true)\n",
            " |-- Vehicle Color: string (nullable = true)\n",
            " |-- Violation Precinct: integer (nullable = true)\n",
            " |-- Violation Time: string (nullable = true)\n",
            " |-- Violation County: string (nullable = true)\n",
            " |-- hour: integer (nullable = true)\n",
            " |-- time_of_day: string (nullable = false)\n",
            "\n"
          ]
        }
      ]
    },
    {
      "cell_type": "code",
      "source": [
        "from pyspark.ml import Pipeline\n",
        "from pyspark.ml.feature import StringIndexer, OneHotEncoder, VectorAssembler\n",
        "from pyspark.ml.regression import LinearRegression\n",
        "from pyspark.sql import SparkSession\n"
      ],
      "metadata": {
        "id": "DyzfpTbiglya"
      },
      "execution_count": null,
      "outputs": []
    },
    {
      "cell_type": "code",
      "source": [
        "spark = SparkSession.builder \\\n",
        "    .appName(\"StringIndexer and OneHotEncoder Example\") \\\n",
        "    .getOrCreate()\n"
      ],
      "metadata": {
        "id": "Ffef10PtgrmU"
      },
      "execution_count": null,
      "outputs": []
    },
    {
      "cell_type": "code",
      "source": [
        "# categorical_columns = ['Registration State', 'Plate Type', 'Issue Date', 'Vehicle Body Type', 'Vehicle Color', 'Violation Time', 'Violation County']\n",
        "\n",
        "categorical_columns = ['Registration State', 'Plate Type', 'Issue Date', 'Vehicle Body Type', 'Vehicle Color']\n",
        "# numerical_columns = ['Street Code1', 'Street Code2', 'Street Code3', 'Violation Precinct']\n",
        "numerical_columns = ['Violation Precinct']\n",
        "#i will not use them all"
      ],
      "metadata": {
        "id": "1eZ6vtpzgsYR"
      },
      "execution_count": null,
      "outputs": []
    },
    {
      "cell_type": "code",
      "source": [
        "indexers = [StringIndexer(inputCol=column, outputCol=column+\"_index\") for column in categorical_columns]\n",
        "encoders = [OneHotEncoder(inputCol=column+\"_index\", outputCol=column+\"_onehot\") for column in categorical_columns]\n"
      ],
      "metadata": {
        "id": "_ITIxGeigxkE"
      },
      "execution_count": null,
      "outputs": []
    },
    {
      "cell_type": "code",
      "source": [
        "assembler = VectorAssembler(inputCols=[column+\"_onehot\" for column in categorical_columns] + numerical_columns, outputCol=\"features\")\n"
      ],
      "metadata": {
        "id": "7MZj4NNng0fW"
      },
      "execution_count": null,
      "outputs": []
    },
    {
      "cell_type": "code",
      "source": [
        "#i might use linear regression\n",
        "pipeline = Pipeline(stages=indexers + encoders + [assembler])\n",
        "model = pipeline.fit(df_cleaned)\n",
        "# Transform the data using the pipeline #there is a problem with transformed data here i can replace it with jusy model and compbine the both steps model=pipeline.fit(df_cleaned).transform(df_cleaned)\n",
        "transformed_data = model.transform(df_cleaned)\n",
        "\n",
        "# Select 'features' and 'Violation_Code' columns from the transformed DataFrame\n",
        "selected_columns = transformed_data.select(\"features\", \"Violation Code\")\n",
        "\n",
        "# # Show the first few rows of the selected columns\n",
        "selected_columns.show()\n",
        "transformed_data.show()\n"
      ],
      "metadata": {
        "colab": {
          "base_uri": "https://localhost:8080/"
        },
        "id": "TPNEFj2Lg3GG",
        "outputId": "5746b14a-d25a-482a-8912-6e27749dac89"
      },
      "execution_count": null,
      "outputs": [
        {
          "output_type": "stream",
          "name": "stdout",
          "text": [
            "+--------------------+--------------+\n",
            "|            features|Violation Code|\n",
            "+--------------------+--------------+\n",
            "|(4587,[1,66,1084,...|            16|\n",
            "|(4587,[2,66,1232,...|            98|\n",
            "|(4587,[1,66,1291,...|            20|\n",
            "|(4587,[0,66,985,1...|            21|\n",
            "|(4587,[2,66,1164,...|            14|\n",
            "|(4587,[0,67,1265,...|            48|\n",
            "|(4587,[0,66,1321,...|            14|\n",
            "|(4587,[11,66,1169...|            98|\n",
            "|(4587,[0,66,694,1...|            46|\n",
            "|(4587,[0,66,694,1...|            24|\n",
            "|(4587,[0,66,694,1...|            24|\n",
            "|(4587,[12,66,762,...|            21|\n",
            "|(4587,[0,66,762,1...|            74|\n",
            "|(4587,[17,66,934,...|            14|\n",
            "|(4587,[0,67,938,1...|            46|\n",
            "|(4587,[0,67,940,1...|            71|\n",
            "|(4587,[0,67,768,1...|            14|\n",
            "|(4587,[4,66,768,1...|            19|\n",
            "|(4587,[1,66,942,1...|            14|\n",
            "|(4587,[0,66,945,1...|            21|\n",
            "+--------------------+--------------+\n",
            "only showing top 20 rows\n",
            "\n",
            "+------------------+----------+--------------+--------------------+-----------------+-------------+------------------+--------------+----------------+----+-----------+------------------------+----------------+----------------+-----------------------+-------------------+-------------------------+-----------------+-------------------+------------------------+--------------------+--------------------+\n",
            "|Registration State|Plate Type|Violation Code|          Issue Date|Vehicle Body Type|Vehicle Color|Violation Precinct|Violation Time|Violation County|hour|time_of_day|Registration State_index|Plate Type_index|Issue Date_index|Vehicle Body Type_index|Vehicle Color_index|Registration State_onehot|Plate Type_onehot|  Issue Date_onehot|Vehicle Body Type_onehot|Vehicle Color_onehot|            features|\n",
            "+------------------+----------+--------------+--------------------+-----------------+-------------+------------------+--------------+----------------+----+-----------+------------------------+----------------+----------------+-----------------------+-------------------+-------------------------+-----------------+-------------------+------------------------+--------------------+--------------------+\n",
            "|                NJ|       PAS|            16|05/08/1972 12:00:...|              SDN|           bk|                72|         0523P|               K|null|    evening|                     1.0|             0.0|           933.0|                    6.0|                2.0|           (66,[1],[1.0])|   (85,[0],[1.0])| (1286,[933],[1.0])|        (1367,[6],[1.0])|    (1782,[2],[1.0])|(4587,[1,66,1084,...|\n",
            "|                PA|       PAS|            98|08/29/1977 12:00:...|             SUBN|          blk|                77|         0428P|               K|null|    evening|                     2.0|             0.0|          1081.0|                    0.0|               10.0|           (66,[2],[1.0])|   (85,[0],[1.0])|(1286,[1081],[1.0])|        (1367,[0],[1.0])|   (1782,[10],[1.0])|(4587,[2,66,1232,...|\n",
            "|                NJ|       PAS|            20|10/03/1988 12:00:...|              SDN|        black|                88|         0625A|               K|null|    evening|                     1.0|             0.0|          1140.0|                    6.0|                5.0|           (66,[1],[1.0])|   (85,[0],[1.0])|(1286,[1140],[1.0])|        (1367,[6],[1.0])|    (1782,[5],[1.0])|(4587,[1,66,1291,...|\n",
            "|                NY|       PAS|            21|02/14/1990 12:00:...|             SUBN|         grey|                90|         1253A|               K|null|    evening|                     0.0|             0.0|           834.0|                    0.0|                1.0|           (66,[0],[1.0])|   (85,[0],[1.0])| (1286,[834],[1.0])|        (1367,[0],[1.0])|    (1782,[1],[1.0])|(4587,[0,66,985,1...|\n",
            "|                PA|       PAS|            14|07/21/1990 12:00:...|             SUBN|         grey|               100|         0525P|               Q|null|    evening|                     2.0|             0.0|          1013.0|                    0.0|                1.0|           (66,[2],[1.0])|   (85,[0],[1.0])|(1286,[1013],[1.0])|        (1367,[0],[1.0])|    (1782,[1],[1.0])|(4587,[2,66,1164,...|\n",
            "|                NY|       COM|            48|09/19/1990 12:00:...|             DELV|        white|                 1|         1120A|              NY|null|    evening|                     0.0|             1.0|          1114.0|                    3.0|                0.0|           (66,[0],[1.0])|   (85,[1],[1.0])|(1286,[1114],[1.0])|        (1367,[3],[1.0])|    (1782,[0],[1.0])|(4587,[0,67,1265,...|\n",
            "|                NY|       PAS|            14|10/14/1990 12:00:...|             SUBN|          blk|                52|         0320A|              BX|null|    evening|                     0.0|             0.0|          1170.0|                    0.0|               10.0|           (66,[0],[1.0])|   (85,[0],[1.0])|(1286,[1170],[1.0])|        (1367,[0],[1.0])|   (1782,[10],[1.0])|(4587,[0,66,1321,...|\n",
            "|                NC|       PAS|            98|07/25/1991 12:00:...|              SDN|         grey|                68|         0843P|               K|null|    evening|                    11.0|             0.0|          1018.0|                    6.0|                1.0|          (66,[11],[1.0])|   (85,[0],[1.0])|(1286,[1018],[1.0])|        (1367,[6],[1.0])|    (1782,[1],[1.0])|(4587,[11,66,1169...|\n",
            "|                NY|       PAS|            46|01/02/2000 12:00:...|              SDN|         grey|                44|         0936P|              BX|null|    evening|                     0.0|             0.0|           543.0|                    6.0|                1.0|           (66,[0],[1.0])|   (85,[0],[1.0])| (1286,[543],[1.0])|        (1367,[6],[1.0])|    (1782,[1],[1.0])|(4587,[0,66,694,1...|\n",
            "|                NY|       PAS|            24|01/02/2000 12:00:...|              SDN|        black|                73|         1030A|               K|null|    evening|                     0.0|             0.0|           543.0|                    6.0|                5.0|           (66,[0],[1.0])|   (85,[0],[1.0])| (1286,[543],[1.0])|        (1367,[6],[1.0])|    (1782,[5],[1.0])|(4587,[0,66,694,1...|\n",
            "|                NY|       PAS|            24|01/02/2000 12:00:...|              SDN|        black|                73|         1015A|               K|null|    evening|                     0.0|             0.0|           543.0|                    6.0|                5.0|           (66,[0],[1.0])|   (85,[0],[1.0])| (1286,[543],[1.0])|        (1367,[6],[1.0])|    (1782,[5],[1.0])|(4587,[0,66,694,1...|\n",
            "|                ME|       PAS|            21|01/03/2000 12:00:...|             SUBN|          tan|                67|         0952A|               K|null|    evening|                    12.0|             0.0|           611.0|                    0.0|               23.0|          (66,[12],[1.0])|   (85,[0],[1.0])| (1286,[611],[1.0])|        (1367,[0],[1.0])|   (1782,[23],[1.0])|(4587,[12,66,762,...|\n",
            "|                NY|       PAS|            74|01/03/2000 12:00:...|              SDN|       silver|                73|         0815A|               K|null|    evening|                     0.0|             0.0|           611.0|                    6.0|                7.0|           (66,[0],[1.0])|   (85,[0],[1.0])| (1286,[611],[1.0])|        (1367,[6],[1.0])|    (1782,[7],[1.0])|(4587,[0,66,762,1...|\n",
            "|                GV|       PAS|            14|01/08/2000 12:00:...|             DELV|        white|                 0|         0410P|              BX|null|    evening|                    17.0|             0.0|           783.0|                    3.0|                0.0|          (66,[17],[1.0])|   (85,[0],[1.0])| (1286,[783],[1.0])|        (1367,[3],[1.0])|    (1782,[0],[1.0])|(4587,[17,66,934,...|\n",
            "|                NY|       COM|            46|01/10/2000 12:00:...|             DELV|           bn|                26|         0605P|              NY|null|    evening|                     0.0|             1.0|           787.0|                    3.0|               51.0|           (66,[0],[1.0])|   (85,[1],[1.0])| (1286,[787],[1.0])|        (1367,[3],[1.0])|   (1782,[51],[1.0])|(4587,[0,67,938,1...|\n",
            "|                NY|       COM|            71|01/12/2000 12:00:...|              VAN|        white|                72|         0854A|               K|null|    evening|                     0.0|             1.0|           789.0|                    2.0|                0.0|           (66,[0],[1.0])|   (85,[1],[1.0])| (1286,[789],[1.0])|        (1367,[2],[1.0])|    (1782,[0],[1.0])|(4587,[0,67,940,1...|\n",
            "|                NY|       COM|            14|01/14/2000 12:00:...|              VAN|          wht|                 0|         0416P|              NY|null|    evening|                     0.0|             1.0|           617.0|                    2.0|               15.0|           (66,[0],[1.0])|   (85,[1],[1.0])| (1286,[617],[1.0])|        (1367,[2],[1.0])|   (1782,[15],[1.0])|(4587,[0,67,768,1...|\n",
            "|                IN|       PAS|            19|01/14/2000 12:00:...|             DELV|        white|                 0|         0903A|              NY|null|    evening|                     4.0|             0.0|           617.0|                    3.0|                0.0|           (66,[4],[1.0])|   (85,[0],[1.0])| (1286,[617],[1.0])|        (1367,[3],[1.0])|    (1782,[0],[1.0])|(4587,[4,66,768,1...|\n",
            "|                NJ|       PAS|            14|01/15/2000 12:00:...|             DELV|        white|                 0|         0854A|              NY|null|    evening|                     1.0|             0.0|           791.0|                    3.0|                0.0|           (66,[1],[1.0])|   (85,[0],[1.0])| (1286,[791],[1.0])|        (1367,[3],[1.0])|    (1782,[0],[1.0])|(4587,[1,66,942,1...|\n",
            "|                NY|       PAS|            21|01/17/2000 12:00:...|              SDN|         grey|                79|         0952A|               K|null|    evening|                     0.0|             0.0|           794.0|                    6.0|                1.0|           (66,[0],[1.0])|   (85,[0],[1.0])| (1286,[794],[1.0])|        (1367,[6],[1.0])|    (1782,[1],[1.0])|(4587,[0,66,945,1...|\n",
            "+------------------+----------+--------------+--------------------+-----------------+-------------+------------------+--------------+----------------+----+-----------+------------------------+----------------+----------------+-----------------------+-------------------+-------------------------+-----------------+-------------------+------------------------+--------------------+--------------------+\n",
            "only showing top 20 rows\n",
            "\n"
          ]
        }
      ]
    },
    {
      "cell_type": "code",
      "source": [
        "train_data, test_data = transformed_data.randomSplit([0.8, 0.2], seed=42)\n",
        "#train_data, test_data = model.randomSplit([0.8, 0.2], seed=42)\n"
      ],
      "metadata": {
        "id": "wuZijNUan-yx"
      },
      "execution_count": null,
      "outputs": []
    },
    {
      "cell_type": "code",
      "source": [
        "from pyspark.ml.classification import LogisticRegression\n",
        "\n",
        "#logr = LogisticRegression(family=\"multinomial\", featuresCol=\"features\", labelCol=\"Violation Code\")\n",
        "logr = LogisticRegression(featuresCol=\"features\", labelCol=\"Violation Code\")\n",
        "logr_Model = logr.fit(train_data)\n"
      ],
      "metadata": {
        "id": "-14z9EXpo2mp"
      },
      "execution_count": null,
      "outputs": []
    },
    {
      "cell_type": "code",
      "source": [
        "predictions = logr_Model.transform(test_data)\n",
        "\n"
      ],
      "metadata": {
        "id": "fgK_DiAmo8Pl"
      },
      "execution_count": null,
      "outputs": []
    },
    {
      "cell_type": "code",
      "source": [
        "from pyspark.ml.evaluation import MulticlassClassificationEvaluator\n",
        "\n",
        "Evaluator= MulticlassClassificationEvaluator(labelCol=\"Violation Code\", predictionCol=\"prediction\")\n",
        "#calculate accuracy\n",
        "accuracy= Evaluator.evaluate(predictions)\n",
        "print(f\"Accuracy: {accuracy}\")"
      ],
      "metadata": {
        "colab": {
          "base_uri": "https://localhost:8080/"
        },
        "id": "j3hYJQvGKur-",
        "outputId": "99ddbd32-e782-4b4a-d7e4-d2fe5eccde5d"
      },
      "execution_count": null,
      "outputs": [
        {
          "output_type": "stream",
          "name": "stdout",
          "text": [
            "Accuracy: 0.42017352367663924\n"
          ]
        }
      ]
    }
  ]
}